{
 "cells": [
  {
   "cell_type": "code",
   "execution_count": 2,
   "metadata": {},
   "outputs": [
    {
     "name": "stdout",
     "output_type": "stream",
     "text": [
      "an example\n"
     ]
    }
   ],
   "source": [
    "#如何理解machine learning中的TP，TN，FP，FN，找到一篇文章：https://towardsdatascience.com/accuracy-recall-precision-f-score-specificity-which-to-optimize-on-867d3f11124\n",
    "\n",
    "'''\n",
    "比如我们需要预测200个学生中哪些人有糖尿病，哪些人是健康的，检测结果要么是diabetes，要么是healthy，X是学生的诊断结果\n",
    "\n",
    "TP表示True Positive表示正确预测出diabetes，而X为diabetes\n",
    "TN表示True Negative表示正确预测为healthy，而X为healthy\n",
    "FP表示False positive表示错误预测出diabetes，而X为healthy\n",
    "FN表示False Negative表示错误预测出healthy，而X为diabetes\n",
    "\n",
    "\n",
    "如何评估？\n",
    "准确率、精确率、召回率\n",
    "\n",
    "准确率\n",
    "It’s the ratio of the correctly labeled subjects to the whole pool of subjects.\n",
    "Accuracy is the most intuitive one.\n",
    "Accuracy answers the following question: How many students did we correctly label out of all the students?\n",
    "\n",
    "Accuracy = (TP+TN)/(TP+FP+FN+TN)\n",
    "分子是准确预测的数据，分母是所有的样本数据\n",
    "\n",
    "\n",
    "\n",
    "精确率\n",
    "Precision is the ratio of the correctly +ve labeled by our program to all +ve labeled.\n",
    "Precision answers the following: How many of those who we labeled as diabetic are actually diabetic?\n",
    "Precision = TP/(TP+FP)\n",
    "分子是准确预测出有diabetes的数据，分母是被预测有diabetes的数据（被准确预测diabetes和误诊有diabetes数据）\n",
    "\n",
    "召回率\n",
    "Recall (aka Sensitivity)\n",
    "Recall is the ratio of the correctly +ve labeled by our program to all who are diabetic in reality.\n",
    "Recall answers the following question: Of all the people who are diabetic, how many of those we correctly predict?\n",
    "Recall = TP/(TP+FN)\n",
    "分子是准确预测出有diabetes的数据，分母是有diabetes的数据（包含准备预测为diabetes和被误诊为健康的数据）\n",
    "\n",
    "\n",
    "\n",
    "Specificity\n",
    "Specificity is the correctly -ve labeled by the program to all who are healthy in reality.\n",
    "Specifity answers the following question: Of all the people who are healthy, how many of those did we correctly predict?\n",
    "Specificity = TN/(TN+FP)\n",
    "\n",
    "\n",
    "\n",
    "#什么是ROC（Receiver Operating Characteristic）又称接受者操作特征曲线，\n",
    "AUC（Area Under Curve）曲线下面积\n",
    "\n",
    "ROC曲线中的主要两个指标就是真正率和假正率。其中横坐标为假正率（FPR），纵坐标为真正率（TPR）\n",
    "\n",
    "\n",
    "https://www.jianshu.com/p/82903edb58dc\n",
    "'''\n",
    "\n",
    "\n",
    "\n",
    "print('an example')\n"
   ]
  },
  {
   "cell_type": "code",
   "execution_count": 14,
   "metadata": {},
   "outputs": [
    {
     "name": "stdout",
     "output_type": "stream",
     "text": [
      "features counts:\n",
      "{0: array([1, 2, 0, 4]), 1: array([1, 3, 3, 0])}\n"
     ]
    }
   ],
   "source": [
    "#朴素贝叶斯定理的简单应用，预测某一天的天气状况\n",
    "\n",
    "#已知一周的天气状况数据如下，顺序是刮北风，闷热，多云，天气预报给出是否有雨；1表示是的，0代表不是;X是天气的特征，y代表这7天是否下雨\n",
    "\n",
    "import numpy as np\n",
    "\n",
    "X=np.array([[0,1,0,1],\n",
    "          [1,1,1,0],\n",
    "          [0,1,1,0],\n",
    "          [0,0,0,1],\n",
    "          [0,1,1,0],\n",
    "          [0,1,0,1],\n",
    "          [1,0,0,1]])\n",
    "y=np.array([0,1,1,0,1,0,0])\n",
    "\n",
    "\n",
    "counts={}\n",
    "for label in np.unique(y):\n",
    "    counts[label]=X[y==label].sum(axis=0)\n",
    "    \n",
    "\n",
    "print('features counts:\\n{}'.format(counts))\n",
    "\n",
    "#结果解释：当y=0时，即没有下雨，4天中有一天刮北风，2天闷热，哦天多云，4天每天的天气预报播放有雨\n",
    "\n",
    "\n"
   ]
  },
  {
   "cell_type": "code",
   "execution_count": 19,
   "metadata": {},
   "outputs": [
    {
     "name": "stdout",
     "output_type": "stream",
     "text": [
      "it's going to rain\n",
      "=======================\n",
      "it' s a sunny day\n",
      "第一种预测的概率： [[0.13848881 0.86151119]]\n",
      "第二种预测的概率： [[0.92340878 0.07659122]]\n"
     ]
    }
   ],
   "source": [
    "#下面是一个预测的例子\n",
    "\n",
    "from sklearn.naive_bayes import BernoulliNB\n",
    "\n",
    "clf=BernoulliNB()\n",
    "\n",
    "#拟合\n",
    "clf.fit(X,y)\n",
    "#比如某一天的天气是不刮风，不闷热，多云，天气预报没有播报有雨;使用简易贝叶斯预测当天的天气状况\n",
    "Next_Day=[[0,0,1,0]]\n",
    "\n",
    "pre=clf.predict(Next_Day)\n",
    "\n",
    "if(pre == 1):\n",
    "    print('it\\'s going to rain')\n",
    "else:\n",
    "    print(\"it\\' s a sunny day\")\n",
    "\n",
    "    \n",
    "#如果要预测的那天是如下的数据急尼[1，1，0，1]\n",
    "\n",
    "another_day=[[1,1,0,1]]\n",
    "\n",
    "pre2=clf.predict(another_day)\n",
    "\n",
    "\n",
    "print('=======================')\n",
    "\n",
    "if(pre2 == 1):\n",
    "    print('it\\'s going to rain')\n",
    "else:\n",
    "    print(\"it\\' s a sunny day\")\n",
    "\n",
    "#我们可以看一下两种预测的概率\n",
    "\n",
    "print('第一种预测的概率：',clf.predict_proba(Next_Day))\n",
    "\n",
    "\n",
    "\n",
    "print('第二种预测的概率：',clf.predict_proba(another_day))\n",
    "   \n",
    "\n",
    "#结果说明 0.13848881 0.86151119 表示第一种数据会下雨的概率是0.13，不会下雨的概率是0.86   \n",
    "\n",
    "    \n",
    "    \n",
    "    "
   ]
  },
  {
   "cell_type": "code",
   "execution_count": null,
   "metadata": {},
   "outputs": [],
   "source": []
  }
 ],
 "metadata": {
  "kernelspec": {
   "display_name": "Python 3",
   "language": "python",
   "name": "python3"
  },
  "language_info": {
   "codemirror_mode": {
    "name": "ipython",
    "version": 3
   },
   "file_extension": ".py",
   "mimetype": "text/x-python",
   "name": "python",
   "nbconvert_exporter": "python",
   "pygments_lexer": "ipython3",
   "version": "3.7.3"
  }
 },
 "nbformat": 4,
 "nbformat_minor": 2
}
